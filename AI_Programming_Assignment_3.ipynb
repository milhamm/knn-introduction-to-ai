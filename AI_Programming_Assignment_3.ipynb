{
  "nbformat": 4,
  "nbformat_minor": 0,
  "metadata": {
    "colab": {
      "name": "AI Programming Assignment 3.ipynb",
      "provenance": [],
      "authorship_tag": "ABX9TyOaJhVJ/Hds4DDyP+1uxZiY",
      "include_colab_link": true
    },
    "kernelspec": {
      "name": "python3",
      "display_name": "Python 3"
    },
    "language_info": {
      "name": "python"
    }
  },
  "cells": [
    {
      "cell_type": "markdown",
      "metadata": {
        "id": "view-in-github",
        "colab_type": "text"
      },
      "source": [
        "<a href=\"https://colab.research.google.com/github/milhamm/knn-introduction-to-ai/blob/main/AI_Programming_Assignment_3.ipynb\" target=\"_parent\"><img src=\"https://colab.research.google.com/assets/colab-badge.svg\" alt=\"Open In Colab\"/></a>"
      ]
    },
    {
      "cell_type": "markdown",
      "metadata": {
        "id": "TIFwsoh5uNDv"
      },
      "source": [
        "# **Group 2 AI Assignment - kNN**\n"
      ]
    },
    {
      "cell_type": "code",
      "metadata": {
        "id": "Ljw1H21oeoeL"
      },
      "source": [
        "import numpy as np\n",
        "import pandas as pd\n",
        "from math import sqrt"
      ],
      "execution_count": 66,
      "outputs": []
    },
    {
      "cell_type": "markdown",
      "metadata": {
        "id": "-hDqPYTSuIJv"
      },
      "source": [
        "## **Data Reading**\n"
      ]
    },
    {
      "cell_type": "code",
      "metadata": {
        "colab": {
          "base_uri": "https://localhost:8080/",
          "height": 204
        },
        "id": "kNYi_2wnuJBK",
        "outputId": "192f3cba-0638-4875-f06f-a2006d850e25"
      },
      "source": [
        "data = pd.read_excel(\"https://github.com/milhamm/knn-introduction-to-ai/blob/main/mobil.xls?raw=true\")\n",
        "data.head()"
      ],
      "execution_count": 67,
      "outputs": [
        {
          "output_type": "execute_result",
          "data": {
            "text/html": [
              "<div>\n",
              "<style scoped>\n",
              "    .dataframe tbody tr th:only-of-type {\n",
              "        vertical-align: middle;\n",
              "    }\n",
              "\n",
              "    .dataframe tbody tr th {\n",
              "        vertical-align: top;\n",
              "    }\n",
              "\n",
              "    .dataframe thead th {\n",
              "        text-align: right;\n",
              "    }\n",
              "</style>\n",
              "<table border=\"1\" class=\"dataframe\">\n",
              "  <thead>\n",
              "    <tr style=\"text-align: right;\">\n",
              "      <th></th>\n",
              "      <th>Nama Mobil</th>\n",
              "      <th>Ukuran</th>\n",
              "      <th>Kenyamanan</th>\n",
              "      <th>Irit</th>\n",
              "      <th>Kecepatan</th>\n",
              "      <th>Harga (Ratus Juta)</th>\n",
              "    </tr>\n",
              "  </thead>\n",
              "  <tbody>\n",
              "    <tr>\n",
              "      <th>0</th>\n",
              "      <td>Toyota Agya</td>\n",
              "      <td>4</td>\n",
              "      <td>4</td>\n",
              "      <td>9</td>\n",
              "      <td>6</td>\n",
              "      <td>1.00</td>\n",
              "    </tr>\n",
              "    <tr>\n",
              "      <th>1</th>\n",
              "      <td>Daihatsu Alya</td>\n",
              "      <td>4</td>\n",
              "      <td>3</td>\n",
              "      <td>9</td>\n",
              "      <td>6</td>\n",
              "      <td>1.10</td>\n",
              "    </tr>\n",
              "    <tr>\n",
              "      <th>2</th>\n",
              "      <td>Toyota Avanza</td>\n",
              "      <td>6</td>\n",
              "      <td>5</td>\n",
              "      <td>6</td>\n",
              "      <td>6</td>\n",
              "      <td>2.00</td>\n",
              "    </tr>\n",
              "    <tr>\n",
              "      <th>3</th>\n",
              "      <td>Daihatsu Xenia</td>\n",
              "      <td>6</td>\n",
              "      <td>4</td>\n",
              "      <td>6</td>\n",
              "      <td>6</td>\n",
              "      <td>1.75</td>\n",
              "    </tr>\n",
              "    <tr>\n",
              "      <th>4</th>\n",
              "      <td>Xpander</td>\n",
              "      <td>7</td>\n",
              "      <td>7</td>\n",
              "      <td>6</td>\n",
              "      <td>7</td>\n",
              "      <td>2.25</td>\n",
              "    </tr>\n",
              "  </tbody>\n",
              "</table>\n",
              "</div>"
            ],
            "text/plain": [
              "       Nama Mobil  Ukuran  Kenyamanan  Irit  Kecepatan  Harga (Ratus Juta)\n",
              "0     Toyota Agya       4           4     9          6                1.00\n",
              "1   Daihatsu Alya       4           3     9          6                1.10\n",
              "2   Toyota Avanza       6           5     6          6                2.00\n",
              "3  Daihatsu Xenia       6           4     6          6                1.75\n",
              "4         Xpander       7           7     6          7                2.25"
            ]
          },
          "metadata": {
            "tags": []
          },
          "execution_count": 67
        }
      ]
    },
    {
      "cell_type": "markdown",
      "metadata": {
        "id": "_xFQhgHpty8E"
      },
      "source": [
        "## **Data Preprocessing**\n"
      ]
    },
    {
      "cell_type": "code",
      "metadata": {
        "id": "bC-Q0O1NfRWR"
      },
      "source": [
        "# Check for null values\n",
        "data.isna().sum()\n",
        "\n",
        "# Drop the name column\n",
        "df = data.drop([\"Nama Mobil\"], axis = 1)"
      ],
      "execution_count": 68,
      "outputs": []
    },
    {
      "cell_type": "markdown",
      "metadata": {
        "id": "vEONtiRfu9Dv"
      },
      "source": [
        "## **Distance Methods**"
      ]
    },
    {
      "cell_type": "code",
      "metadata": {
        "id": "diLX_2smu7MQ"
      },
      "source": [
        "def manhattan(x, y):\n",
        "  return sum([abs(x[i] - y[i]) for i in range(len(x))])\n",
        "\n",
        "def euclidean(x, y):\n",
        "  return sqrt(sum([(x[i] - y[i]) ** 2 for i in range(len(x))]))\n",
        "\n",
        "def minkowski(x, y, r):\n",
        "  return sum([abs(x[i] - y[i]) ** r for i in range(len(x))]) ** (1./ r)\n",
        "\n",
        "def supremum(x, y):\n",
        "  return max([abs(x[i] - y[i]) for i in range(len(x))])"
      ],
      "execution_count": 69,
      "outputs": []
    },
    {
      "cell_type": "markdown",
      "metadata": {
        "id": "smCAF6K0v1MR"
      },
      "source": [
        "## **k-Nearest Neighbour**"
      ]
    },
    {
      "cell_type": "code",
      "metadata": {
        "id": "noyKRhH5vcEm",
        "colab": {
          "base_uri": "https://localhost:8080/"
        },
        "outputId": "6183b79d-b48d-4499-8c8f-4afe874d5794"
      },
      "source": [
        "training_data = [4, 8, 7, 9, 4.3]\n",
        "\n",
        "def knn(k):\n",
        "  manhattan_distance = []\n",
        "  euclidean_distance = []\n",
        "  minkowski_distance = []\n",
        "  supremum_distance = []\n",
        "  \n",
        "  df_list = df.values\n",
        "\n",
        "  for x in df_list:\n",
        "    manhattan_distance.append(manhattan(x, training_data))\n",
        "    euclidean_distance.append(euclidean(x, training_data))\n",
        "    minkowski_distance.append(minkowski(x, training_data, 3))\n",
        "    supremum_distance.append(supremum(x, training_data))\n",
        "  data[\"manhattan\"], data[\"euclidean\"], data[\"minkowski\"], data[\"supremum\"]  = manhattan_distance, euclidean_distance, minkowski_distance, supremum_distance\n",
        "\n",
        "  manhattan_sorted = data.sort_values(by=['manhattan'])[:k]\n",
        "  euclidean_sorted = data.sort_values(by=['euclidean'])[:k]\n",
        "  minkowski_sorted = data.sort_values(by=['minkowski'])[:k]\n",
        "  supremum_sorted = data.sort_values(by=['supremum'])[:k]\n",
        "\n",
        "  manhattan_sorted[\"Nama Mobil\"].to_excel('rekomendasi.xls', index=False, header=False)\n",
        "\n",
        "  return manhattan_sorted, euclidean_sorted, minkowski_sorted, supremum_sorted\n",
        "\n",
        "man, euc, min, sup = knn(3)\n",
        "print(man, euc, min, sup)"
      ],
      "execution_count": 70,
      "outputs": [
        {
          "output_type": "stream",
          "text": [
            "              Nama Mobil  Ukuran  Kenyamanan  ...  euclidean  minkowski  supremum\n",
            "10            Honda City       5           8  ...   2.135416   1.826761       1.6\n",
            "14  Toyota Corolla Altis       5           9  ...   2.211334   1.904973       1.7\n",
            "9            Toyota Vios       5           7  ...   3.200000   2.562783       2.0\n",
            "\n",
            "[3 rows x 10 columns]               Nama Mobil  Ukuran  Kenyamanan  ...  euclidean  minkowski  supremum\n",
            "10            Honda City       5           8  ...   2.135416   1.826761       1.6\n",
            "14  Toyota Corolla Altis       5           9  ...   2.211334   1.904973       1.7\n",
            "9            Toyota Vios       5           7  ...   3.200000   2.562783       2.0\n",
            "\n",
            "[3 rows x 10 columns]               Nama Mobil  Ukuran  Kenyamanan  ...  euclidean  minkowski  supremum\n",
            "10            Honda City       5           8  ...   2.135416   1.826761       1.6\n",
            "14  Toyota Corolla Altis       5           9  ...   2.211334   1.904973       1.7\n",
            "9            Toyota Vios       5           7  ...   3.200000   2.562783       2.0\n",
            "\n",
            "[3 rows x 10 columns]               Nama Mobil  Ukuran  Kenyamanan  ...  euclidean  minkowski  supremum\n",
            "10            Honda City       5           8  ...   2.135416   1.826761       1.6\n",
            "14  Toyota Corolla Altis       5           9  ...   2.211334   1.904973       1.7\n",
            "9            Toyota Vios       5           7  ...   3.200000   2.562783       2.0\n",
            "\n",
            "[3 rows x 10 columns]\n"
          ],
          "name": "stdout"
        }
      ]
    },
    {
      "cell_type": "code",
      "metadata": {
        "id": "O3PVyy-s3T9O"
      },
      "source": [
        ""
      ],
      "execution_count": 70,
      "outputs": []
    }
  ]
}